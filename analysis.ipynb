{
 "cells": [
  {
   "cell_type": "markdown",
   "metadata": {},
   "source": [
    "# Andrea analysis\n",
    "### this notebook analyses the output of a small test experiment\n",
    "### the dataset contains one WT and two mutants samples"
   ]
  },
  {
   "cell_type": "code",
   "execution_count": 1,
   "metadata": {},
   "outputs": [],
   "source": [
    "#upload some library\n",
    "import pandas as pd\n",
    "import os\n",
    "import seaborn as sns\n",
    "from ttp import get_data\n",
    "import missingno as msno\n",
    "import numpy as np"
   ]
  },
  {
   "cell_type": "code",
   "execution_count": 2,
   "metadata": {},
   "outputs": [
    {
     "data": {
      "text/html": [
       "<div>\n",
       "<style scoped>\n",
       "    .dataframe tbody tr th:only-of-type {\n",
       "        vertical-align: middle;\n",
       "    }\n",
       "\n",
       "    .dataframe tbody tr th {\n",
       "        vertical-align: top;\n",
       "    }\n",
       "\n",
       "    .dataframe thead th {\n",
       "        text-align: right;\n",
       "    }\n",
       "</style>\n",
       "<table border=\"1\" class=\"dataframe\">\n",
       "  <thead>\n",
       "    <tr style=\"text-align: right;\">\n",
       "      <th></th>\n",
       "      <th>Protein IDs</th>\n",
       "      <th>Majority protein IDs</th>\n",
       "      <th>Peptide counts (all)</th>\n",
       "      <th>Peptide counts (razor+unique)</th>\n",
       "      <th>Peptide counts (unique)</th>\n",
       "      <th>Protein names</th>\n",
       "      <th>Gene names</th>\n",
       "      <th>Fasta headers</th>\n",
       "      <th>Number of proteins</th>\n",
       "      <th>Peptides</th>\n",
       "      <th>...</th>\n",
       "      <th>Peptide IDs</th>\n",
       "      <th>Peptide is razor</th>\n",
       "      <th>Mod. peptide IDs</th>\n",
       "      <th>Evidence IDs</th>\n",
       "      <th>MS/MS IDs</th>\n",
       "      <th>Best MS/MS</th>\n",
       "      <th>HexNAc (ST) site IDs</th>\n",
       "      <th>Oxidation (M) site IDs</th>\n",
       "      <th>HexNAc (ST) site positions</th>\n",
       "      <th>Oxidation (M) site positions</th>\n",
       "    </tr>\n",
       "  </thead>\n",
       "  <tbody>\n",
       "    <tr>\n",
       "      <th>0</th>\n",
       "      <td>A0A0B4JD11;Q9NJH0</td>\n",
       "      <td>A0A0B4JD11;Q9NJH0</td>\n",
       "      <td>2;2</td>\n",
       "      <td>2;2</td>\n",
       "      <td>2;2</td>\n",
       "      <td>Elongation factor 1-gamma</td>\n",
       "      <td>Ef1gamma</td>\n",
       "      <td>tr|A0A0B4JD11|A0A0B4JD11_DROME Ef1gamma, isofo...</td>\n",
       "      <td>2</td>\n",
       "      <td>2</td>\n",
       "      <td>...</td>\n",
       "      <td>151;381</td>\n",
       "      <td>True;True</td>\n",
       "      <td>169;414</td>\n",
       "      <td>615;1416;1417</td>\n",
       "      <td>499;1150</td>\n",
       "      <td>499;1150</td>\n",
       "      <td>NaN</td>\n",
       "      <td>NaN</td>\n",
       "      <td>NaN</td>\n",
       "      <td>NaN</td>\n",
       "    </tr>\n",
       "    <tr>\n",
       "      <th>1</th>\n",
       "      <td>A0A0B4K7I3;A0A0B4K6S2</td>\n",
       "      <td>A0A0B4K7I3;A0A0B4K6S2</td>\n",
       "      <td>1;1</td>\n",
       "      <td>1;1</td>\n",
       "      <td>1;1</td>\n",
       "      <td>NaN</td>\n",
       "      <td>Dscam1</td>\n",
       "      <td>tr|A0A0B4K7I3|A0A0B4K7I3_DROME Down syndrome c...</td>\n",
       "      <td>2</td>\n",
       "      <td>1</td>\n",
       "      <td>...</td>\n",
       "      <td>394</td>\n",
       "      <td>True</td>\n",
       "      <td>430</td>\n",
       "      <td>1478;1479</td>\n",
       "      <td>1203</td>\n",
       "      <td>1203</td>\n",
       "      <td>NaN</td>\n",
       "      <td>NaN</td>\n",
       "      <td>NaN</td>\n",
       "      <td>NaN</td>\n",
       "    </tr>\n",
       "    <tr>\n",
       "      <th>2</th>\n",
       "      <td>A0A0B4K812;Q7KNS3</td>\n",
       "      <td>A0A0B4K812;Q7KNS3</td>\n",
       "      <td>2;2</td>\n",
       "      <td>2;2</td>\n",
       "      <td>2;2</td>\n",
       "      <td>Lissencephaly-1 homolog</td>\n",
       "      <td>Lis-1</td>\n",
       "      <td>tr|A0A0B4K812|A0A0B4K812_DROME Lissencephaly-1...</td>\n",
       "      <td>2</td>\n",
       "      <td>2</td>\n",
       "      <td>...</td>\n",
       "      <td>211;374</td>\n",
       "      <td>True;True</td>\n",
       "      <td>235;407</td>\n",
       "      <td>853;1390;1391</td>\n",
       "      <td>706;1129</td>\n",
       "      <td>706;1129</td>\n",
       "      <td>NaN</td>\n",
       "      <td>0</td>\n",
       "      <td>NaN</td>\n",
       "      <td>123</td>\n",
       "    </tr>\n",
       "    <tr>\n",
       "      <th>3</th>\n",
       "      <td>A0A0B4K8A5;Q9W2F2</td>\n",
       "      <td>A0A0B4K8A5;Q9W2F2</td>\n",
       "      <td>1;1</td>\n",
       "      <td>1;1</td>\n",
       "      <td>1;1</td>\n",
       "      <td>Protein mahjong</td>\n",
       "      <td>mahj</td>\n",
       "      <td>tr|A0A0B4K8A5|A0A0B4K8A5_DROME Mahjong, isofor...</td>\n",
       "      <td>2</td>\n",
       "      <td>1</td>\n",
       "      <td>...</td>\n",
       "      <td>375</td>\n",
       "      <td>True</td>\n",
       "      <td>408</td>\n",
       "      <td>1392</td>\n",
       "      <td>1130</td>\n",
       "      <td>1130</td>\n",
       "      <td>NaN</td>\n",
       "      <td>NaN</td>\n",
       "      <td>NaN</td>\n",
       "      <td>NaN</td>\n",
       "    </tr>\n",
       "    <tr>\n",
       "      <th>4</th>\n",
       "      <td>O46111;A0A0B4KF46;Q8T0L3</td>\n",
       "      <td>O46111;A0A0B4KF46;Q8T0L3</td>\n",
       "      <td>1;1;1</td>\n",
       "      <td>1;1;1</td>\n",
       "      <td>1;1;1</td>\n",
       "      <td>NaN</td>\n",
       "      <td>Uba1</td>\n",
       "      <td>tr|O46111|O46111_DROME Ubiquitin activating en...</td>\n",
       "      <td>3</td>\n",
       "      <td>1</td>\n",
       "      <td>...</td>\n",
       "      <td>389</td>\n",
       "      <td>True</td>\n",
       "      <td>422</td>\n",
       "      <td>1441;1442;1443</td>\n",
       "      <td>1164;1165</td>\n",
       "      <td>1164</td>\n",
       "      <td>NaN</td>\n",
       "      <td>NaN</td>\n",
       "      <td>NaN</td>\n",
       "      <td>NaN</td>\n",
       "    </tr>\n",
       "  </tbody>\n",
       "</table>\n",
       "<p>5 rows × 182 columns</p>\n",
       "</div>"
      ],
      "text/plain": [
       "                Protein IDs      Majority protein IDs Peptide counts (all)  \\\n",
       "0         A0A0B4JD11;Q9NJH0         A0A0B4JD11;Q9NJH0                  2;2   \n",
       "1     A0A0B4K7I3;A0A0B4K6S2     A0A0B4K7I3;A0A0B4K6S2                  1;1   \n",
       "2         A0A0B4K812;Q7KNS3         A0A0B4K812;Q7KNS3                  2;2   \n",
       "3         A0A0B4K8A5;Q9W2F2         A0A0B4K8A5;Q9W2F2                  1;1   \n",
       "4  O46111;A0A0B4KF46;Q8T0L3  O46111;A0A0B4KF46;Q8T0L3                1;1;1   \n",
       "\n",
       "  Peptide counts (razor+unique) Peptide counts (unique)  \\\n",
       "0                           2;2                     2;2   \n",
       "1                           1;1                     1;1   \n",
       "2                           2;2                     2;2   \n",
       "3                           1;1                     1;1   \n",
       "4                         1;1;1                   1;1;1   \n",
       "\n",
       "               Protein names Gene names  \\\n",
       "0  Elongation factor 1-gamma   Ef1gamma   \n",
       "1                        NaN     Dscam1   \n",
       "2    Lissencephaly-1 homolog      Lis-1   \n",
       "3            Protein mahjong       mahj   \n",
       "4                        NaN       Uba1   \n",
       "\n",
       "                                       Fasta headers  Number of proteins  \\\n",
       "0  tr|A0A0B4JD11|A0A0B4JD11_DROME Ef1gamma, isofo...                   2   \n",
       "1  tr|A0A0B4K7I3|A0A0B4K7I3_DROME Down syndrome c...                   2   \n",
       "2  tr|A0A0B4K812|A0A0B4K812_DROME Lissencephaly-1...                   2   \n",
       "3  tr|A0A0B4K8A5|A0A0B4K8A5_DROME Mahjong, isofor...                   2   \n",
       "4  tr|O46111|O46111_DROME Ubiquitin activating en...                   3   \n",
       "\n",
       "   Peptides              ...               Peptide IDs  Peptide is razor  \\\n",
       "0         2              ...                   151;381         True;True   \n",
       "1         1              ...                       394              True   \n",
       "2         2              ...                   211;374         True;True   \n",
       "3         1              ...                       375              True   \n",
       "4         1              ...                       389              True   \n",
       "\n",
       "   Mod. peptide IDs    Evidence IDs  MS/MS IDs  Best MS/MS  \\\n",
       "0           169;414   615;1416;1417   499;1150    499;1150   \n",
       "1               430       1478;1479       1203        1203   \n",
       "2           235;407   853;1390;1391   706;1129    706;1129   \n",
       "3               408            1392       1130        1130   \n",
       "4               422  1441;1442;1443  1164;1165        1164   \n",
       "\n",
       "   HexNAc (ST) site IDs  Oxidation (M) site IDs  HexNAc (ST) site positions  \\\n",
       "0                   NaN                     NaN                         NaN   \n",
       "1                   NaN                     NaN                         NaN   \n",
       "2                   NaN                       0                         NaN   \n",
       "3                   NaN                     NaN                         NaN   \n",
       "4                   NaN                     NaN                         NaN   \n",
       "\n",
       "   Oxidation (M) site positions  \n",
       "0                           NaN  \n",
       "1                           NaN  \n",
       "2                           123  \n",
       "3                           NaN  \n",
       "4                           NaN  \n",
       "\n",
       "[5 rows x 182 columns]"
      ]
     },
     "execution_count": 2,
     "metadata": {},
     "output_type": "execute_result"
    }
   ],
   "source": [
    "#get data\n",
    "file_name = os.path.join('indata','proteinGroups.txt')\n",
    "df = pd.read_csv(file_name, sep='\\t')\n",
    "df.head()"
   ]
  },
  {
   "cell_type": "code",
   "execution_count": 3,
   "metadata": {},
   "outputs": [
    {
     "name": "stdout",
     "output_type": "stream",
     "text": [
      "Only identified by site\n",
      "nothing removed\n",
      "---------------\n",
      "removed  2 Reverse\n",
      "tot  2  entries removed\n",
      "---------------\n",
      "removed  10 Potential contaminant\n",
      "tot  12  entries removed\n",
      "---------------\n",
      "got:  254 protein now\n",
      "removed  23 all zeros\n",
      "tot  35  entries removed\n",
      "---------------\n"
     ]
    }
   ],
   "source": [
    "#select relevant columns\n",
    "_QUANT_METHODS = ['Reporter intensity corrected ']\n",
    "_EXP = [' Mutant 1',' Mutant 2', ' WT']\n",
    "_TP = ['0','1','2','3','4','5','6','7','8','9',]\n",
    "df = get_data.clean(df, _QUANT_METHODS, _EXP, _TP)"
   ]
  },
  {
   "cell_type": "markdown",
   "metadata": {},
   "source": [
    "### let's see how sparse the dataset is"
   ]
  },
  {
   "cell_type": "code",
   "execution_count": 27,
   "metadata": {},
   "outputs": [
    {
     "name": "stdout",
     "output_type": "stream",
     "text": [
      "(231, 30)\n"
     ]
    },
    {
     "data": {
      "text/plain": [
       "10    64\n",
       "30    38\n",
       "9     27\n",
       "29    22\n",
       "20    20\n",
       "dtype: int64"
      ]
     },
     "execution_count": 27,
     "metadata": {},
     "output_type": "execute_result"
    },
    {
     "data": {
      "image/png": "[encoded data removed]",
      "text/plain": [
       "<Figure size 432x288 with 1 Axes>"
      ]
     },
     "metadata": {},
     "output_type": "display_data"
    }
   ],
   "source": [
    "print (df.shape)\n",
    "df.head()\n",
    "no_zeros =abs( (df==0).astype(int).sum(axis=1) - df.shape[1])\n",
    "no_zeros.hist()\n",
    "no_zeros.value_counts().head()"
   ]
  },
  {
   "cell_type": "markdown",
   "metadata": {},
   "source": [
    "### It seems that the dataset contains quite a few missing values, let's visualise them"
   ]
  },
  {
   "cell_type": "code",
   "execution_count": 6,
   "metadata": {},
   "outputs": [
    {
     "data": {
      "text/plain": [
       "<matplotlib.axes._subplots.AxesSubplot at 0x1a10cf5c18>"
      ]
     },
     "execution_count": 6,
     "metadata": {},
     "output_type": "execute_result"
    },
    {
     "data": {
      "image/png": "[encoded data removed]",
      "text/plain": [
       "<Figure size 1800x720 with 2 Axes>"
      ]
     },
     "metadata": {},
     "output_type": "display_data"
    }
   ],
   "source": [
    "#this plot visualise the missing value as white space between the non-missing black values \n",
    "msno.matrix(df.replace(0,np.nan))"
   ]
  },
  {
   "cell_type": "markdown",
   "metadata": {},
   "source": [
    "### some conclusions:\n",
    "#### The dataset is small and sparse\n",
    "#### the mutant dasets contain the majority of the missing values"
   ]
  },
  {
   "cell_type": "markdown",
   "metadata": {},
   "source": [
    "## Let's now see the data for each experiment, starting with the WT"
   ]
  },
  {
   "cell_type": "code",
   "execution_count": 26,
   "metadata": {},
   "outputs": [
    {
     "name": "stdout",
     "output_type": "stream",
     "text": [
      "(204, 10)\n"
     ]
    },
    {
     "data": {
      "text/html": [
       "<div>\n",
       "<style scoped>\n",
       "    .dataframe tbody tr th:only-of-type {\n",
       "        vertical-align: middle;\n",
       "    }\n",
       "\n",
       "    .dataframe tbody tr th {\n",
       "        vertical-align: top;\n",
       "    }\n",
       "\n",
       "    .dataframe thead th {\n",
       "        text-align: right;\n",
       "    }\n",
       "</style>\n",
       "<table border=\"1\" class=\"dataframe\">\n",
       "  <thead>\n",
       "    <tr style=\"text-align: right;\">\n",
       "      <th></th>\n",
       "      <th>37c</th>\n",
       "      <th>41c</th>\n",
       "      <th>44c</th>\n",
       "      <th>47c</th>\n",
       "      <th>50c</th>\n",
       "      <th>53c</th>\n",
       "      <th>56c</th>\n",
       "      <th>59c</th>\n",
       "      <th>63c</th>\n",
       "      <th>67c</th>\n",
       "    </tr>\n",
       "  </thead>\n",
       "  <tbody>\n",
       "    <tr>\n",
       "      <th>0</th>\n",
       "      <td>25907.00</td>\n",
       "      <td>18595.00</td>\n",
       "      <td>8322.70</td>\n",
       "      <td>3074.9</td>\n",
       "      <td>3202.30</td>\n",
       "      <td>3435.10</td>\n",
       "      <td>16405.00</td>\n",
       "      <td>3032.30</td>\n",
       "      <td>1224.70</td>\n",
       "      <td>3415.30</td>\n",
       "    </tr>\n",
       "    <tr>\n",
       "      <th>4</th>\n",
       "      <td>11747.00</td>\n",
       "      <td>10162.00</td>\n",
       "      <td>6582.20</td>\n",
       "      <td>1715.0</td>\n",
       "      <td>1298.80</td>\n",
       "      <td>1836.90</td>\n",
       "      <td>6350.70</td>\n",
       "      <td>990.18</td>\n",
       "      <td>0.00</td>\n",
       "      <td>1161.00</td>\n",
       "    </tr>\n",
       "    <tr>\n",
       "      <th>5</th>\n",
       "      <td>20933.00</td>\n",
       "      <td>17088.00</td>\n",
       "      <td>10295.00</td>\n",
       "      <td>1508.6</td>\n",
       "      <td>4886.40</td>\n",
       "      <td>5738.20</td>\n",
       "      <td>39157.00</td>\n",
       "      <td>7606.40</td>\n",
       "      <td>1682.00</td>\n",
       "      <td>1995.00</td>\n",
       "    </tr>\n",
       "    <tr>\n",
       "      <th>6</th>\n",
       "      <td>48664.00</td>\n",
       "      <td>59864.00</td>\n",
       "      <td>44176.00</td>\n",
       "      <td>30351.0</td>\n",
       "      <td>44310.00</td>\n",
       "      <td>46450.00</td>\n",
       "      <td>42657.00</td>\n",
       "      <td>42737.00</td>\n",
       "      <td>238.94</td>\n",
       "      <td>46948.00</td>\n",
       "    </tr>\n",
       "    <tr>\n",
       "      <th>10</th>\n",
       "      <td>590.91</td>\n",
       "      <td>706.75</td>\n",
       "      <td>202.58</td>\n",
       "      <td>0.0</td>\n",
       "      <td>241.02</td>\n",
       "      <td>201.65</td>\n",
       "      <td>952.12</td>\n",
       "      <td>0.00</td>\n",
       "      <td>0.00</td>\n",
       "      <td>207.43</td>\n",
       "    </tr>\n",
       "  </tbody>\n",
       "</table>\n",
       "</div>"
      ],
      "text/plain": [
       "         37c       41c       44c      47c       50c       53c       56c  \\\n",
       "0   25907.00  18595.00   8322.70   3074.9   3202.30   3435.10  16405.00   \n",
       "4   11747.00  10162.00   6582.20   1715.0   1298.80   1836.90   6350.70   \n",
       "5   20933.00  17088.00  10295.00   1508.6   4886.40   5738.20  39157.00   \n",
       "6   48664.00  59864.00  44176.00  30351.0  44310.00  46450.00  42657.00   \n",
       "10    590.91    706.75    202.58      0.0    241.02    201.65    952.12   \n",
       "\n",
       "         59c      63c       67c  \n",
       "0    3032.30  1224.70   3415.30  \n",
       "4     990.18     0.00   1161.00  \n",
       "5    7606.40  1682.00   1995.00  \n",
       "6   42737.00   238.94  46948.00  \n",
       "10      0.00     0.00    207.43  "
      ]
     },
     "execution_count": 26,
     "metadata": {},
     "output_type": "execute_result"
    },
    {
     "data": {
      "image/png": "[encoded data removed]",
      "text/plain": [
       "<Figure size 432x288 with 1 Axes>"
      ]
     },
     "metadata": {},
     "output_type": "display_data"
    }
   ],
   "source": [
    "_TM = [37, 41, 44, 47, 50, 53, 56, 59, 63, 67]\n",
    "wt = df.iloc[:,20:]\n",
    "wt.columns = [str(n)+'c' for n in _TM]\n",
    "wt = wt[(wt.T != 0).any()]\n",
    "print (wt.shape)\n",
    "get_data.box_plot(wt,get_data.norm_max)\n",
    "wt.head()"
   ]
  },
  {
   "cell_type": "markdown",
   "metadata": {},
   "source": [
    "### The Wt experiments would be very difficult to interpreter as the majority of the proteins aggregate after the 44C time point. Also the 56C time point is abnormal, for analysis this data point ( 56C) needs to be replaced (rolling average?)"
   ]
  },
  {
   "cell_type": "markdown",
   "metadata": {},
   "source": [
    "## L'ets get the two mutants now"
   ]
  },
  {
   "cell_type": "code",
   "execution_count": 28,
   "metadata": {},
   "outputs": [
    {
     "name": "stdout",
     "output_type": "stream",
     "text": [
      "(105, 10)\n"
     ]
    },
    {
     "data": {
      "text/html": [
       "<div>\n",
       "<style scoped>\n",
       "    .dataframe tbody tr th:only-of-type {\n",
       "        vertical-align: middle;\n",
       "    }\n",
       "\n",
       "    .dataframe tbody tr th {\n",
       "        vertical-align: top;\n",
       "    }\n",
       "\n",
       "    .dataframe thead th {\n",
       "        text-align: right;\n",
       "    }\n",
       "</style>\n",
       "<table border=\"1\" class=\"dataframe\">\n",
       "  <thead>\n",
       "    <tr style=\"text-align: right;\">\n",
       "      <th></th>\n",
       "      <th>37c</th>\n",
       "      <th>41c</th>\n",
       "      <th>44c</th>\n",
       "      <th>47c</th>\n",
       "      <th>50c</th>\n",
       "      <th>53c</th>\n",
       "      <th>56c</th>\n",
       "      <th>59c</th>\n",
       "      <th>63c</th>\n",
       "      <th>67c</th>\n",
       "    </tr>\n",
       "  </thead>\n",
       "  <tbody>\n",
       "    <tr>\n",
       "      <th>2</th>\n",
       "      <td>6814.9</td>\n",
       "      <td>3669.30</td>\n",
       "      <td>3307.4</td>\n",
       "      <td>330.120</td>\n",
       "      <td>2389.30</td>\n",
       "      <td>1778.30</td>\n",
       "      <td>1952.10</td>\n",
       "      <td>1784.00</td>\n",
       "      <td>1309.7</td>\n",
       "      <td>1689.00</td>\n",
       "    </tr>\n",
       "    <tr>\n",
       "      <th>4</th>\n",
       "      <td>6828.2</td>\n",
       "      <td>6142.00</td>\n",
       "      <td>2033.5</td>\n",
       "      <td>0.000</td>\n",
       "      <td>1017.50</td>\n",
       "      <td>466.94</td>\n",
       "      <td>283.84</td>\n",
       "      <td>300.65</td>\n",
       "      <td>0.0</td>\n",
       "      <td>421.62</td>\n",
       "    </tr>\n",
       "    <tr>\n",
       "      <th>11</th>\n",
       "      <td>3821.3</td>\n",
       "      <td>2543.00</td>\n",
       "      <td>2711.3</td>\n",
       "      <td>686.800</td>\n",
       "      <td>8144.40</td>\n",
       "      <td>6881.70</td>\n",
       "      <td>7402.60</td>\n",
       "      <td>11856.00</td>\n",
       "      <td>6741.5</td>\n",
       "      <td>10096.00</td>\n",
       "    </tr>\n",
       "    <tr>\n",
       "      <th>14</th>\n",
       "      <td>5625.2</td>\n",
       "      <td>415.07</td>\n",
       "      <td>1398.8</td>\n",
       "      <td>0.000</td>\n",
       "      <td>913.17</td>\n",
       "      <td>289.37</td>\n",
       "      <td>516.54</td>\n",
       "      <td>409.96</td>\n",
       "      <td>0.0</td>\n",
       "      <td>1047.90</td>\n",
       "    </tr>\n",
       "    <tr>\n",
       "      <th>15</th>\n",
       "      <td>2697.9</td>\n",
       "      <td>4319.90</td>\n",
       "      <td>1566.0</td>\n",
       "      <td>32.479</td>\n",
       "      <td>1809.00</td>\n",
       "      <td>2440.20</td>\n",
       "      <td>5994.70</td>\n",
       "      <td>4640.20</td>\n",
       "      <td>2850.2</td>\n",
       "      <td>3175.60</td>\n",
       "    </tr>\n",
       "  </tbody>\n",
       "</table>\n",
       "</div>"
      ],
      "text/plain": [
       "       37c      41c     44c      47c      50c      53c      56c       59c  \\\n",
       "2   6814.9  3669.30  3307.4  330.120  2389.30  1778.30  1952.10   1784.00   \n",
       "4   6828.2  6142.00  2033.5    0.000  1017.50   466.94   283.84    300.65   \n",
       "11  3821.3  2543.00  2711.3  686.800  8144.40  6881.70  7402.60  11856.00   \n",
       "14  5625.2   415.07  1398.8    0.000   913.17   289.37   516.54    409.96   \n",
       "15  2697.9  4319.90  1566.0   32.479  1809.00  2440.20  5994.70   4640.20   \n",
       "\n",
       "       63c       67c  \n",
       "2   1309.7   1689.00  \n",
       "4      0.0    421.62  \n",
       "11  6741.5  10096.00  \n",
       "14     0.0   1047.90  \n",
       "15  2850.2   3175.60  "
      ]
     },
     "execution_count": 28,
     "metadata": {},
     "output_type": "execute_result"
    },
    {
     "data": {
      "image/png": "[encoded data removed]",
      "text/plain": [
       "<Figure size 432x288 with 1 Axes>"
      ]
     },
     "metadata": {},
     "output_type": "display_data"
    }
   ],
   "source": [
    "_TM = [37, 41, 44, 47, 50, 53, 56, 59, 63, 67]\n",
    "mut1 = df.iloc[:,0:10]\n",
    "mut1.columns = [str(n)+'c' for n in _TM]\n",
    "mut1 = mut1[(mut1.T != 0).any()]\n",
    "print (mut1.shape)\n",
    "get_data.box_plot(mut1,get_data.norm_max)\n",
    "mut1.head()"
   ]
  },
  {
   "cell_type": "code",
   "execution_count": 29,
   "metadata": {},
   "outputs": [
    {
     "name": "stdout",
     "output_type": "stream",
     "text": [
      "(131, 10)\n"
     ]
    },
    {
     "data": {
      "text/html": [
       "<div>\n",
       "<style scoped>\n",
       "    .dataframe tbody tr th:only-of-type {\n",
       "        vertical-align: middle;\n",
       "    }\n",
       "\n",
       "    .dataframe tbody tr th {\n",
       "        vertical-align: top;\n",
       "    }\n",
       "\n",
       "    .dataframe thead th {\n",
       "        text-align: right;\n",
       "    }\n",
       "</style>\n",
       "<table border=\"1\" class=\"dataframe\">\n",
       "  <thead>\n",
       "    <tr style=\"text-align: right;\">\n",
       "      <th></th>\n",
       "      <th>37c</th>\n",
       "      <th>41c</th>\n",
       "      <th>44c</th>\n",
       "      <th>47c</th>\n",
       "      <th>50c</th>\n",
       "      <th>53c</th>\n",
       "      <th>56c</th>\n",
       "      <th>59c</th>\n",
       "      <th>63c</th>\n",
       "      <th>67c</th>\n",
       "    </tr>\n",
       "  </thead>\n",
       "  <tbody>\n",
       "    <tr>\n",
       "      <th>1</th>\n",
       "      <td>207.75</td>\n",
       "      <td>262.86</td>\n",
       "      <td>171.04</td>\n",
       "      <td>0.00</td>\n",
       "      <td>170.51</td>\n",
       "      <td>203.03</td>\n",
       "      <td>0.0</td>\n",
       "      <td>0.0</td>\n",
       "      <td>0.00</td>\n",
       "      <td>0.00</td>\n",
       "    </tr>\n",
       "    <tr>\n",
       "      <th>2</th>\n",
       "      <td>1707.20</td>\n",
       "      <td>1975.70</td>\n",
       "      <td>1966.40</td>\n",
       "      <td>0.00</td>\n",
       "      <td>822.11</td>\n",
       "      <td>0.00</td>\n",
       "      <td>1159.6</td>\n",
       "      <td>979.4</td>\n",
       "      <td>1403.60</td>\n",
       "      <td>341.21</td>\n",
       "    </tr>\n",
       "    <tr>\n",
       "      <th>6</th>\n",
       "      <td>4001.60</td>\n",
       "      <td>6584.50</td>\n",
       "      <td>2767.10</td>\n",
       "      <td>1976.50</td>\n",
       "      <td>2297.90</td>\n",
       "      <td>2818.20</td>\n",
       "      <td>2052.0</td>\n",
       "      <td>2209.8</td>\n",
       "      <td>199.01</td>\n",
       "      <td>2781.20</td>\n",
       "    </tr>\n",
       "    <tr>\n",
       "      <th>8</th>\n",
       "      <td>336.76</td>\n",
       "      <td>1154.70</td>\n",
       "      <td>273.30</td>\n",
       "      <td>110.29</td>\n",
       "      <td>315.11</td>\n",
       "      <td>320.96</td>\n",
       "      <td>0.0</td>\n",
       "      <td>0.0</td>\n",
       "      <td>0.00</td>\n",
       "      <td>165.77</td>\n",
       "    </tr>\n",
       "    <tr>\n",
       "      <th>11</th>\n",
       "      <td>2200.80</td>\n",
       "      <td>3047.30</td>\n",
       "      <td>3053.80</td>\n",
       "      <td>735.57</td>\n",
       "      <td>2639.60</td>\n",
       "      <td>1211.80</td>\n",
       "      <td>2121.9</td>\n",
       "      <td>2332.3</td>\n",
       "      <td>5045.50</td>\n",
       "      <td>908.13</td>\n",
       "    </tr>\n",
       "  </tbody>\n",
       "</table>\n",
       "</div>"
      ],
      "text/plain": [
       "        37c      41c      44c      47c      50c      53c     56c     59c  \\\n",
       "1    207.75   262.86   171.04     0.00   170.51   203.03     0.0     0.0   \n",
       "2   1707.20  1975.70  1966.40     0.00   822.11     0.00  1159.6   979.4   \n",
       "6   4001.60  6584.50  2767.10  1976.50  2297.90  2818.20  2052.0  2209.8   \n",
       "8    336.76  1154.70   273.30   110.29   315.11   320.96     0.0     0.0   \n",
       "11  2200.80  3047.30  3053.80   735.57  2639.60  1211.80  2121.9  2332.3   \n",
       "\n",
       "        63c      67c  \n",
       "1      0.00     0.00  \n",
       "2   1403.60   341.21  \n",
       "6    199.01  2781.20  \n",
       "8      0.00   165.77  \n",
       "11  5045.50   908.13  "
      ]
     },
     "execution_count": 29,
     "metadata": {},
     "output_type": "execute_result"
    },
    {
     "data": {
      "image/png": "[encoded data removed]",
      "text/plain": [
       "<Figure size 432x288 with 1 Axes>"
      ]
     },
     "metadata": {},
     "output_type": "display_data"
    }
   ],
   "source": [
    "_TM = [37, 41, 44, 47, 50, 53, 56, 59, 63, 67]\n",
    "mut2 = df.iloc[:,10:20]\n",
    "mut2.columns = [str(n)+'c' for n in _TM]\n",
    "mut2 = mut2[(mut2.T != 0).any()]\n",
    "print (mut2.shape)\n",
    "get_data.box_plot(mut2, get_data.norm_max)\n",
    "mut2.head()"
   ]
  },
  {
   "cell_type": "markdown",
   "metadata": {},
   "source": [
    "### Neither of those look very good, the 47C time point stands out as problematic in both mutant 1 and 2. The distribution of the values is also problematic, it doesn't show a nice sigmoid, but this might be due to the many missing values in these two conditions."
   ]
  },
  {
   "cell_type": "code",
   "execution_count": null,
   "metadata": {},
   "outputs": [],
   "source": []
  }
 ],
 "metadata": {
  "kernelspec": {
   "display_name": "Python 3",
   "language": "python",
   "name": "python3"
  },
  "language_info": {
   "codemirror_mode": {
    "name": "ipython",
    "version": 3
   },
   "file_extension": ".py",
   "mimetype": "text/x-python",
   "name": "python",
   "nbconvert_exporter": "python",
   "pygments_lexer": "ipython3",
   "version": "3.6.5"
  }
 },
 "nbformat": 4,
 "nbformat_minor": 2
}
